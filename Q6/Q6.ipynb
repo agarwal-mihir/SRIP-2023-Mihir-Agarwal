{
  "cells": [
    {
      "cell_type": "code",
      "execution_count": 6,
      "metadata": {
        "colab": {
          "base_uri": "https://localhost:8080/"
        },
        "id": "KC1Hj209C0lv",
        "outputId": "197849ef-d8a4-4f6a-bdd0-1dacaae96f3f"
      },
      "outputs": [
        {
          "name": "stdout",
          "output_type": "stream",
          "text": [
            "Final Normal distribution: Mean=0.11598855257034302, Variance=3.002490520477295\n"
          ]
        }
      ],
      "source": [
        "import torch\n",
        "import numpy as np\n",
        "from scipy.stats import norm\n",
        "\n",
        "np.random.seed(0)\n",
        "\n",
        "\n",
        "loc1, scale1 = -1.0, 0.2\n",
        "loc2, scale2 = 1.0, 0.3\n",
        "weights = [0.4, 0.6]\n",
        "\n",
        "def mixture_pdf(x):\n",
        "    return weights[0]*norm.pdf(x, loc1, scale1) + weights[1]*norm.pdf(x, loc2, scale2)\n",
        "\n",
        "\n",
        "normal_mean = torch.tensor([0.0], requires_grad=True)\n",
        "normal_var = torch.tensor([1.0], requires_grad=True)\n",
        "\n",
        "\n",
        "optimizer = torch.optim.SGD([normal_mean, normal_var], lr=0.1)\n",
        "\n",
        "\n",
        "loss_fn = torch.nn.KLDivLoss(reduction='batchmean')\n",
        "\n",
        "\n",
        "num_iterations = 1000\n",
        "x = np.linspace(-5, 5, 1000)\n",
        "mean_list = []\n",
        "var_list = []\n",
        "kld_list = []\n",
        "for i in range(num_iterations):\n",
        "    optimizer.zero_grad()\n",
        "    \n",
        "\n",
        "    normal = torch.distributions.Normal(normal_mean, normal_var.sqrt())\n",
        "    kl_div = loss_fn(torch.tensor(mixture_pdf(x), dtype=torch.float32), normal.log_prob(torch.tensor(x, dtype=torch.float32)).exp())\n",
        "    \n",
        "    kl_div.backward()\n",
        "    optimizer.step()\n",
        "    mean_list.append(torch.distributions.Normal(normal_mean, normal_var.sqrt()).mean.item())\n",
        "    var_list.append(torch.distributions.Normal(normal_mean, normal_var.sqrt()).variance.item())\n",
        "    kld_list.append(kl_div.item())\n",
        "\n",
        "\n",
        "final_normal = torch.distributions.Normal(normal_mean, normal_var.sqrt())\n",
        "print(f\"Final Normal distribution: Mean={final_normal.mean.item()}, Variance={final_normal.variance.item()}\")\n"
      ]
    },
    {
      "cell_type": "code",
      "execution_count": 7,
      "metadata": {
        "colab": {
          "base_uri": "https://localhost:8080/",
          "height": 408
        },
        "id": "ILbpq3uwC5O4",
        "outputId": "641470af-07ad-4d51-89a5-dcf0549ae6de"
      },
      "outputs": [
        {
          "name": "stderr",
          "output_type": "stream",
          "text": [
            "WARNING:matplotlib.animation:MovieWriter imagemagick unavailable; using Pillow instead.\n"
          ]
        },
        {
          "data": {
            "image/png": "[encoded data removed]",
            "text/plain": [
              "<Figure size 576x432 with 1 Axes>"
            ]
          },
          "metadata": {
            "needs_background": "light"
          },
          "output_type": "display_data"
        }
      ],
      "source": [
        "import matplotlib.pyplot as plt\n",
        "from matplotlib.animation import FuncAnimation\n",
        "\n",
        "\n",
        "fig, ax = plt.subplots(figsize=(8, 6))\n",
        "ax.set_xlim(-5, 5)\n",
        "ax.set_ylim(0, 1.5)\n",
        "\n",
        "\n",
        "x = np.linspace(-5, 5, 1000)\n",
        "true_pdf = mixture_pdf(x)\n",
        "line_true, = ax.plot(x, true_pdf, label='True distribution')\n",
        "\n",
        "\n",
        "line_normal, = ax.plot([], [], label='Normal distribution')\n",
        "\n",
        "\n",
        "ax.legend()\n",
        "\n",
        "\n",
        "def update(i):\n",
        "\n",
        "    mean = mean_list[i]\n",
        "    std = var_list[i]\n",
        "    \n",
        "\n",
        "    normal = torch.distributions.Normal(mean, std)\n",
        "    normal_pdf = normal.log_prob(torch.tensor(x, dtype=torch.float32)).exp().detach().numpy()\n",
        "    \n",
        "\n",
        "    line_normal.set_data(x, normal_pdf)\n",
        "    \n",
        "\n",
        "    ax.set_title(f\"Iteration {i+1}, KL divergence: {kld_list[i]:.4f}\")\n",
        "    \n",
        "    return line_normal,\n",
        "\n",
        "\n",
        "anim = FuncAnimation(fig, update, frames=num_iterations, blit=True)\n",
        "anim.save('normal_fit_reverse_kl.gif', writer='imagemagick')\n",
        "\n",
        "plt.show()\n"
      ]
    }
  ],
  "metadata": {
    "colab": {
      "provenance": []
    },
    "kernelspec": {
      "display_name": "Python 3",
      "name": "python3"
    },
    "language_info": {
      "name": "python"
    }
  },
  "nbformat": 4,
  "nbformat_minor": 0
}
