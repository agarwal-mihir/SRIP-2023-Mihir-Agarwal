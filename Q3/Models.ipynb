{
 "cells": [
  {
   "cell_type": "code",
   "execution_count": 44,
   "metadata": {},
   "outputs": [
    {
     "data": {
      "text/html": [
       "<div>\n",
       "<style scoped>\n",
       "    .dataframe tbody tr th:only-of-type {\n",
       "        vertical-align: middle;\n",
       "    }\n",
       "\n",
       "    .dataframe tbody tr th {\n",
       "        vertical-align: top;\n",
       "    }\n",
       "\n",
       "    .dataframe thead th {\n",
       "        text-align: right;\n",
       "    }\n",
       "</style>\n",
       "<table border=\"1\" class=\"dataframe\">\n",
       "  <thead>\n",
       "    <tr style=\"text-align: right;\">\n",
       "      <th></th>\n",
       "      <th>location</th>\n",
       "      <th>parameter</th>\n",
       "      <th>value</th>\n",
       "      <th>unit</th>\n",
       "      <th>country</th>\n",
       "      <th>city</th>\n",
       "      <th>date.utc</th>\n",
       "      <th>coordinates.latitude</th>\n",
       "      <th>coordinates.longitude</th>\n",
       "    </tr>\n",
       "  </thead>\n",
       "  <tbody>\n",
       "    <tr>\n",
       "      <th>0</th>\n",
       "      <td>US Diplomatic Post: New Delhi</td>\n",
       "      <td>pm25</td>\n",
       "      <td>26.0</td>\n",
       "      <td>b'\\xc2\\xb5g/m\\xc2\\xb3'</td>\n",
       "      <td>IN</td>\n",
       "      <td>Delhi</td>\n",
       "      <td>2023-03-05 12:30:00+00:00</td>\n",
       "      <td>28.63576</td>\n",
       "      <td>77.22445</td>\n",
       "    </tr>\n",
       "    <tr>\n",
       "      <th>1</th>\n",
       "      <td>US Diplomatic Post: New Delhi</td>\n",
       "      <td>pm25</td>\n",
       "      <td>21.0</td>\n",
       "      <td>b'\\xc2\\xb5g/m\\xc2\\xb3'</td>\n",
       "      <td>IN</td>\n",
       "      <td>Delhi</td>\n",
       "      <td>2023-03-05 11:30:00+00:00</td>\n",
       "      <td>28.63576</td>\n",
       "      <td>77.22445</td>\n",
       "    </tr>\n",
       "    <tr>\n",
       "      <th>2</th>\n",
       "      <td>US Diplomatic Post: New Delhi</td>\n",
       "      <td>pm25</td>\n",
       "      <td>19.0</td>\n",
       "      <td>b'\\xc2\\xb5g/m\\xc2\\xb3'</td>\n",
       "      <td>IN</td>\n",
       "      <td>Delhi</td>\n",
       "      <td>2023-03-05 10:30:00+00:00</td>\n",
       "      <td>28.63576</td>\n",
       "      <td>77.22445</td>\n",
       "    </tr>\n",
       "    <tr>\n",
       "      <th>3</th>\n",
       "      <td>US Diplomatic Post: New Delhi</td>\n",
       "      <td>pm25</td>\n",
       "      <td>23.0</td>\n",
       "      <td>b'\\xc2\\xb5g/m\\xc2\\xb3'</td>\n",
       "      <td>IN</td>\n",
       "      <td>Delhi</td>\n",
       "      <td>2023-03-05 09:30:00+00:00</td>\n",
       "      <td>28.63576</td>\n",
       "      <td>77.22445</td>\n",
       "    </tr>\n",
       "    <tr>\n",
       "      <th>4</th>\n",
       "      <td>US Diplomatic Post: New Delhi</td>\n",
       "      <td>pm25</td>\n",
       "      <td>25.0</td>\n",
       "      <td>b'\\xc2\\xb5g/m\\xc2\\xb3'</td>\n",
       "      <td>IN</td>\n",
       "      <td>Delhi</td>\n",
       "      <td>2023-03-05 08:30:00+00:00</td>\n",
       "      <td>28.63576</td>\n",
       "      <td>77.22445</td>\n",
       "    </tr>\n",
       "  </tbody>\n",
       "</table>\n",
       "</div>"
      ],
      "text/plain": [
       "                        location parameter  value                    unit  \\\n",
       "0  US Diplomatic Post: New Delhi      pm25   26.0  b'\\xc2\\xb5g/m\\xc2\\xb3'   \n",
       "1  US Diplomatic Post: New Delhi      pm25   21.0  b'\\xc2\\xb5g/m\\xc2\\xb3'   \n",
       "2  US Diplomatic Post: New Delhi      pm25   19.0  b'\\xc2\\xb5g/m\\xc2\\xb3'   \n",
       "3  US Diplomatic Post: New Delhi      pm25   23.0  b'\\xc2\\xb5g/m\\xc2\\xb3'   \n",
       "4  US Diplomatic Post: New Delhi      pm25   25.0  b'\\xc2\\xb5g/m\\xc2\\xb3'   \n",
       "\n",
       "  country   city                   date.utc  coordinates.latitude  \\\n",
       "0      IN  Delhi  2023-03-05 12:30:00+00:00              28.63576   \n",
       "1      IN  Delhi  2023-03-05 11:30:00+00:00              28.63576   \n",
       "2      IN  Delhi  2023-03-05 10:30:00+00:00              28.63576   \n",
       "3      IN  Delhi  2023-03-05 09:30:00+00:00              28.63576   \n",
       "4      IN  Delhi  2023-03-05 08:30:00+00:00              28.63576   \n",
       "\n",
       "   coordinates.longitude  \n",
       "0               77.22445  \n",
       "1               77.22445  \n",
       "2               77.22445  \n",
       "3               77.22445  \n",
       "4               77.22445  "
      ]
     },
     "execution_count": 44,
     "metadata": {},
     "output_type": "execute_result"
    }
   ],
   "source": [
    "import pandas as pd\n",
    "df = pd.read_csv(\"delhi_air_quality_data.csv\")\n",
    "df.head()"
   ]
  },
  {
   "cell_type": "code",
   "execution_count": 34,
   "metadata": {},
   "outputs": [
    {
     "name": "stdout",
     "output_type": "stream",
     "text": [
      "Unique values in column 'location': 36\n",
      "Unique values in column 'parameter': 1\n",
      "Unique values in column 'value': 1649\n",
      "Unique values in column 'unit': 1\n",
      "Unique values in column 'country': 1\n",
      "Unique values in column 'city': 1\n",
      "Unique values in column 'date.utc': 4522\n",
      "Unique values in column 'coordinates.latitude': 36\n",
      "Unique values in column 'coordinates.longitude': 36\n"
     ]
    }
   ],
   "source": [
    "for col in df.columns:\n",
    "    print(f\"Unique values in column '{col}': {len(df[col].unique())}\")\n"
   ]
  },
  {
   "cell_type": "code",
   "execution_count": 35,
   "metadata": {},
   "outputs": [
    {
     "data": {
      "text/plain": [
       "Index(['location', 'parameter', 'value', 'unit', 'country', 'city', 'date.utc',\n",
       "       'coordinates.latitude', 'coordinates.longitude'],\n",
       "      dtype='object')"
      ]
     },
     "execution_count": 35,
     "metadata": {},
     "output_type": "execute_result"
    }
   ],
   "source": [
    "df.columns"
   ]
  },
  {
   "cell_type": "code",
   "execution_count": 45,
   "metadata": {},
   "outputs": [
    {
     "name": "stdout",
     "output_type": "stream",
     "text": [
      "                                     MSE\n",
      "Random Forest               -1121.408770\n",
      "Linear Regression           -1122.091504\n",
      "Gaussian Process Regression -1122.041288\n"
     ]
    }
   ],
   "source": [
    "import pandas as pd\n",
    "from sklearn.model_selection import train_test_split, cross_val_score\n",
    "from sklearn.ensemble import RandomForestRegressor\n",
    "from sklearn.linear_model import LinearRegression\n",
    "from sklearn.gaussian_process import GaussianProcessRegressor\n",
    "from sklearn.gaussian_process.kernels import DotProduct, WhiteKernel\n",
    "from sklearn.metrics import mean_absolute_error, mean_squared_error, r2_score\n",
    "import numpy as np\n",
    "\n",
    "\n",
    "X_train, X_test, y_train, y_test = train_test_split(df[['coordinates.latitude', 'coordinates.longitude']], df['value'], test_size=0.2, random_state=0)\n",
    "\n",
    "\n",
    "rf = RandomForestRegressor(random_state=0)\n",
    "lr = LinearRegression()\n",
    "kernel = DotProduct() + WhiteKernel()\n",
    "gpr = GaussianProcessRegressor(kernel=kernel, random_state=0)\n",
    "\n",
    "\n",
    "models = {'Random Forest': rf, 'Linear Regression': lr, 'Gaussian Process Regression': gpr}\n",
    "cv_results = {}\n",
    "\n",
    "for name, model in models.items():\n",
    "    scores = cross_val_score(model, X_train, y_train, cv=5, scoring='neg_mean_squared_error')\n",
    "    cv_results[name] = [scores.mean()]\n",
    "\n",
    "# Display the results as a table\n",
    "results_df = pd.DataFrame.from_dict(cv_results, orient='index', columns=['MSE'])\n",
    "print(results_df)\n"
   ]
  },
  {
   "cell_type": "code",
   "execution_count": null,
   "metadata": {},
   "outputs": [],
   "source": []
  }
 ],
 "metadata": {
  "kernelspec": {
   "display_name": "srip",
   "language": "python",
   "name": "python3"
  },
  "language_info": {
   "codemirror_mode": {
    "name": "ipython",
    "version": 3
   },
   "file_extension": ".py",
   "mimetype": "text/x-python",
   "name": "python",
   "nbconvert_exporter": "python",
   "pygments_lexer": "ipython3",
   "version": "3.10.9"
  },
  "orig_nbformat": 4,
  "vscode": {
   "interpreter": {
    "hash": "7ef9601eab6971c40fb7811e1d4fefdb8d8cf59609630133a7b6fa4360806be3"
   }
  }
 },
 "nbformat": 4,
 "nbformat_minor": 2
}
