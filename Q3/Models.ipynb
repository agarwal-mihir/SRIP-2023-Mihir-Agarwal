{
 "cells": [
  {
   "cell_type": "code",
   "execution_count": 3,
   "metadata": {},
   "outputs": [
    {
     "data": {
      "text/html": [
       "<div>\n",
       "<style scoped>\n",
       "    .dataframe tbody tr th:only-of-type {\n",
       "        vertical-align: middle;\n",
       "    }\n",
       "\n",
       "    .dataframe tbody tr th {\n",
       "        vertical-align: top;\n",
       "    }\n",
       "\n",
       "    .dataframe thead th {\n",
       "        text-align: right;\n",
       "    }\n",
       "</style>\n",
       "<table border=\"1\" class=\"dataframe\">\n",
       "  <thead>\n",
       "    <tr style=\"text-align: right;\">\n",
       "      <th></th>\n",
       "      <th>location</th>\n",
       "      <th>parameter</th>\n",
       "      <th>value</th>\n",
       "      <th>unit</th>\n",
       "      <th>country</th>\n",
       "      <th>city</th>\n",
       "      <th>date.utc</th>\n",
       "      <th>date.local</th>\n",
       "      <th>coordinates.latitude</th>\n",
       "      <th>coordinates.longitude</th>\n",
       "    </tr>\n",
       "  </thead>\n",
       "  <tbody>\n",
       "    <tr>\n",
       "      <th>0</th>\n",
       "      <td>US Diplomatic Post: New Delhi</td>\n",
       "      <td>pm25</td>\n",
       "      <td>161.0</td>\n",
       "      <td>µg/m³</td>\n",
       "      <td>IN</td>\n",
       "      <td>Delhi</td>\n",
       "      <td>2022-02-06T23:30:00Z</td>\n",
       "      <td>2022-02-07T05:00:00+05:30</td>\n",
       "      <td>28.63576</td>\n",
       "      <td>77.22445</td>\n",
       "    </tr>\n",
       "    <tr>\n",
       "      <th>1</th>\n",
       "      <td>US Diplomatic Post: New Delhi</td>\n",
       "      <td>pm25</td>\n",
       "      <td>179.0</td>\n",
       "      <td>µg/m³</td>\n",
       "      <td>IN</td>\n",
       "      <td>Delhi</td>\n",
       "      <td>2022-02-06T22:30:00Z</td>\n",
       "      <td>2022-02-07T04:00:00+05:30</td>\n",
       "      <td>28.63576</td>\n",
       "      <td>77.22445</td>\n",
       "    </tr>\n",
       "    <tr>\n",
       "      <th>2</th>\n",
       "      <td>US Diplomatic Post: New Delhi</td>\n",
       "      <td>pm25</td>\n",
       "      <td>174.0</td>\n",
       "      <td>µg/m³</td>\n",
       "      <td>IN</td>\n",
       "      <td>Delhi</td>\n",
       "      <td>2022-02-06T21:30:00Z</td>\n",
       "      <td>2022-02-07T03:00:00+05:30</td>\n",
       "      <td>28.63576</td>\n",
       "      <td>77.22445</td>\n",
       "    </tr>\n",
       "    <tr>\n",
       "      <th>3</th>\n",
       "      <td>US Diplomatic Post: New Delhi</td>\n",
       "      <td>pm25</td>\n",
       "      <td>196.0</td>\n",
       "      <td>µg/m³</td>\n",
       "      <td>IN</td>\n",
       "      <td>Delhi</td>\n",
       "      <td>2022-02-06T20:30:00Z</td>\n",
       "      <td>2022-02-07T02:00:00+05:30</td>\n",
       "      <td>28.63576</td>\n",
       "      <td>77.22445</td>\n",
       "    </tr>\n",
       "    <tr>\n",
       "      <th>4</th>\n",
       "      <td>US Diplomatic Post: New Delhi</td>\n",
       "      <td>pm25</td>\n",
       "      <td>192.0</td>\n",
       "      <td>µg/m³</td>\n",
       "      <td>IN</td>\n",
       "      <td>Delhi</td>\n",
       "      <td>2022-02-06T19:30:00Z</td>\n",
       "      <td>2022-02-07T01:00:00+05:30</td>\n",
       "      <td>28.63576</td>\n",
       "      <td>77.22445</td>\n",
       "    </tr>\n",
       "  </tbody>\n",
       "</table>\n",
       "</div>"
      ],
      "text/plain": [
       "                        location parameter  value   unit country   city  \\\n",
       "0  US Diplomatic Post: New Delhi      pm25  161.0  µg/m³      IN  Delhi   \n",
       "1  US Diplomatic Post: New Delhi      pm25  179.0  µg/m³      IN  Delhi   \n",
       "2  US Diplomatic Post: New Delhi      pm25  174.0  µg/m³      IN  Delhi   \n",
       "3  US Diplomatic Post: New Delhi      pm25  196.0  µg/m³      IN  Delhi   \n",
       "4  US Diplomatic Post: New Delhi      pm25  192.0  µg/m³      IN  Delhi   \n",
       "\n",
       "               date.utc                 date.local  coordinates.latitude  \\\n",
       "0  2022-02-06T23:30:00Z  2022-02-07T05:00:00+05:30              28.63576   \n",
       "1  2022-02-06T22:30:00Z  2022-02-07T04:00:00+05:30              28.63576   \n",
       "2  2022-02-06T21:30:00Z  2022-02-07T03:00:00+05:30              28.63576   \n",
       "3  2022-02-06T20:30:00Z  2022-02-07T02:00:00+05:30              28.63576   \n",
       "4  2022-02-06T19:30:00Z  2022-02-07T01:00:00+05:30              28.63576   \n",
       "\n",
       "   coordinates.longitude  \n",
       "0               77.22445  \n",
       "1               77.22445  \n",
       "2               77.22445  \n",
       "3               77.22445  \n",
       "4               77.22445  "
      ]
     },
     "execution_count": 3,
     "metadata": {},
     "output_type": "execute_result"
    }
   ],
   "source": [
    "import pandas as pd\n",
    "df = pd.read_csv(\"delhi_air_quality_data.csv\")\n",
    "df.head()"
   ]
  },
  {
   "cell_type": "code",
   "execution_count": 4,
   "metadata": {},
   "outputs": [
    {
     "name": "stdout",
     "output_type": "stream",
     "text": [
      "Unique values in column 'location': 39\n",
      "Unique values in column 'parameter': 6\n",
      "Unique values in column 'value': 3922\n",
      "Unique values in column 'unit': 1\n",
      "Unique values in column 'country': 1\n",
      "Unique values in column 'city': 1\n",
      "Unique values in column 'date.utc': 366\n",
      "Unique values in column 'date.local': 366\n",
      "Unique values in column 'coordinates.latitude': 39\n",
      "Unique values in column 'coordinates.longitude': 39\n"
     ]
    }
   ],
   "source": [
    "for col in df.columns:\n",
    "    print(f\"Unique values in column '{col}': {len(df[col].unique())}\")\n"
   ]
  },
  {
   "cell_type": "code",
   "execution_count": 4,
   "metadata": {},
   "outputs": [
    {
     "data": {
      "text/plain": [
       "\"{'utc': '2022-02-22T23:30:00Z', 'local': '2022-02-23T05:00:00+05:30'}\""
      ]
     },
     "execution_count": 4,
     "metadata": {},
     "output_type": "execute_result"
    }
   ],
   "source": [
    "df[\"date\"].iloc[0]"
   ]
  },
  {
   "cell_type": "code",
   "execution_count": null,
   "metadata": {},
   "outputs": [],
   "source": []
  }
 ],
 "metadata": {
  "kernelspec": {
   "display_name": "srip",
   "language": "python",
   "name": "python3"
  },
  "language_info": {
   "codemirror_mode": {
    "name": "ipython",
    "version": 3
   },
   "file_extension": ".py",
   "mimetype": "text/x-python",
   "name": "python",
   "nbconvert_exporter": "python",
   "pygments_lexer": "ipython3",
   "version": "3.10.9"
  },
  "orig_nbformat": 4,
  "vscode": {
   "interpreter": {
    "hash": "7ef9601eab6971c40fb7811e1d4fefdb8d8cf59609630133a7b6fa4360806be3"
   }
  }
 },
 "nbformat": 4,
 "nbformat_minor": 2
}
